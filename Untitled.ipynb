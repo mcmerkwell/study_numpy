{
 "cells": [
  {
   "cell_type": "code",
   "execution_count": 1,
   "id": "d00dcbfe",
   "metadata": {},
   "outputs": [
    {
     "name": "stdout",
     "output_type": "stream",
     "text": [
      "2022-10-20 16:52:27,830 - PySpice.Spice.NgSpice.Shared.NgSpiceShared - Shared.ERROR - Error: Library ../lib/ngspice/spice2poly.cm couldn't be loaded!\n"
     ]
    },
    {
     "name": "stderr",
     "output_type": "stream",
     "text": [
      "Exception ignored from cffi callback <function NgSpiceShared._send_char at 0x000001CCE42E1120>:\n",
      "Traceback (most recent call last):\n",
      "  File \"C:\\Users\\user\\AppData\\Local\\Programs\\Python\\Python310\\lib\\site-packages\\PySpice\\Spice\\NgSpice\\Shared.py\", line 618, in _send_char\n",
      "    prefix, _, content = message.partition(' ')\n",
      "TypeError: a bytes-like object is required, not 'str'\n",
      "Exception ignored from cffi callback <function NgSpiceShared._send_char at 0x000001CCE42E1120>:\n",
      "Traceback (most recent call last):\n",
      "  File \"C:\\Users\\user\\AppData\\Local\\Programs\\Python\\Python310\\lib\\site-packages\\PySpice\\Spice\\NgSpice\\Shared.py\", line 618, in _send_char\n",
      "    prefix, _, content = message.partition(' ')\n",
      "TypeError: a bytes-like object is required, not 'str'\n"
     ]
    },
    {
     "name": "stdout",
     "output_type": "stream",
     "text": [
      "2022-10-20 16:52:27,846 - PySpice.Spice.NgSpice.Shared.NgSpiceShared - Shared.ERROR - Error: Library ../lib/ngspice/analog.cm couldn't be loaded!\n"
     ]
    },
    {
     "name": "stderr",
     "output_type": "stream",
     "text": [
      "Exception ignored from cffi callback <function NgSpiceShared._send_char at 0x000001CCE42E1120>:\n",
      "Traceback (most recent call last):\n",
      "  File \"C:\\Users\\user\\AppData\\Local\\Programs\\Python\\Python310\\lib\\site-packages\\PySpice\\Spice\\NgSpice\\Shared.py\", line 618, in _send_char\n",
      "    prefix, _, content = message.partition(' ')\n",
      "TypeError: a bytes-like object is required, not 'str'\n"
     ]
    },
    {
     "name": "stdout",
     "output_type": "stream",
     "text": [
      "2022-10-20 16:52:27,856 - PySpice.Spice.NgSpice.Shared.NgSpiceShared - Shared.ERROR - Error: Library ../lib/ngspice/digital.cm couldn't be loaded!\n"
     ]
    },
    {
     "name": "stderr",
     "output_type": "stream",
     "text": [
      "Exception ignored from cffi callback <function NgSpiceShared._send_char at 0x000001CCE42E1120>:\n",
      "Traceback (most recent call last):\n",
      "  File \"C:\\Users\\user\\AppData\\Local\\Programs\\Python\\Python310\\lib\\site-packages\\PySpice\\Spice\\NgSpice\\Shared.py\", line 618, in _send_char\n",
      "    prefix, _, content = message.partition(' ')\n",
      "TypeError: a bytes-like object is required, not 'str'\n"
     ]
    },
    {
     "name": "stdout",
     "output_type": "stream",
     "text": [
      "2022-10-20 16:52:27,865 - PySpice.Spice.NgSpice.Shared.NgSpiceShared - Shared.ERROR - Error: Library ../lib/ngspice/xtradev.cm couldn't be loaded!\n"
     ]
    },
    {
     "name": "stderr",
     "output_type": "stream",
     "text": [
      "Exception ignored from cffi callback <function NgSpiceShared._send_char at 0x000001CCE42E1120>:\n",
      "Traceback (most recent call last):\n",
      "  File \"C:\\Users\\user\\AppData\\Local\\Programs\\Python\\Python310\\lib\\site-packages\\PySpice\\Spice\\NgSpice\\Shared.py\", line 618, in _send_char\n",
      "    prefix, _, content = message.partition(' ')\n",
      "TypeError: a bytes-like object is required, not 'str'\n"
     ]
    },
    {
     "name": "stdout",
     "output_type": "stream",
     "text": [
      "2022-10-20 16:52:27,873 - PySpice.Spice.NgSpice.Shared.NgSpiceShared - Shared.ERROR - Error: Library ../lib/ngspice/xtraevt.cm couldn't be loaded!\n"
     ]
    },
    {
     "name": "stderr",
     "output_type": "stream",
     "text": [
      "Exception ignored from cffi callback <function NgSpiceShared._send_char at 0x000001CCE42E1120>:\n",
      "Traceback (most recent call last):\n",
      "  File \"C:\\Users\\user\\AppData\\Local\\Programs\\Python\\Python310\\lib\\site-packages\\PySpice\\Spice\\NgSpice\\Shared.py\", line 618, in _send_char\n",
      "    prefix, _, content = message.partition(' ')\n",
      "TypeError: a bytes-like object is required, not 'str'\n"
     ]
    },
    {
     "name": "stdout",
     "output_type": "stream",
     "text": [
      "2022-10-20 16:52:27,881 - PySpice.Spice.NgSpice.Shared.NgSpiceShared - Shared.ERROR - Error: Library ../lib/ngspice/table.cm couldn't be loaded!\n"
     ]
    },
    {
     "ename": "SystemExit",
     "evalue": "0",
     "output_type": "error",
     "traceback": [
      "An exception has occurred, use %tb to see the full traceback.\n",
      "\u001b[1;31mSystemExit\u001b[0m\u001b[1;31m:\u001b[0m 0\n"
     ]
    },
    {
     "name": "stderr",
     "output_type": "stream",
     "text": [
      "C:\\Users\\user\\AppData\\Local\\Programs\\Python\\Python310\\lib\\site-packages\\IPython\\core\\interactiveshell.py:3259: UserWarning: To exit: use 'exit', 'quit', or Ctrl-D.\n",
      "  warn(\"To exit: use 'exit', 'quit', or Ctrl-D.\", stacklevel=1)\n"
     ]
    }
   ],
   "source": [
    "from PyQt5.QtWidgets import QApplication, QWidget, QGroupBox, QHBoxLayout, QGridLayout, QLabel, QLineEdit, QPushButton\n",
    "from PyQt5.QtCore import Qt\n",
    "from PyQt5.QtGui import QDoubleValidator\n",
    "\n",
    "import matplotlib.pyplot as plt\n",
    "from matplotlib.backends.backend_qt5agg import FigureCanvasQTAgg\n",
    "\n",
    "import PySpice.Logging.Logging as Logging\n",
    "from PySpice.Spice.Netlist import Circuit, SubCircuit\n",
    "from PySpice.Unit import *\n",
    "\n",
    "import sys\n",
    "import numpy as np\n",
    "import math\n",
    "\n",
    "QApplication.setAttribute(Qt.AA_EnableHighDpiScaling, True)\n",
    "\n",
    "logger = Logging.setup_logging()\n",
    "\n",
    "\n",
    "class SolarPanel(SubCircuit):\n",
    "    __nodes__ = ('V+', 'V-', 'illu')\n",
    "\n",
    "    # Default PV panel parameters are from Q Cells Q.peak Duo BLK-G10+ 350 for normal operating conditions.\n",
    "    def __init__(self, name, voc, isc, vmp, imp, c_eff_voc, c_eff_isc, temp):\n",
    "        SubCircuit.__init__(self, name, *self.__nodes__)\n",
    "\n",
    "        voc_t = voc * (1 - c_eff_voc * (25 - temp))\n",
    "        isc_t = isc * (1 - c_eff_isc * (25 - temp))\n",
    "        vmp_t = vmp * (1 - c_eff_voc * (25 - temp))\n",
    "        imp_t = imp * (1 - c_eff_isc * (25 - temp))\n",
    "\n",
    "        a_n = 1.3 * voc / 0.7\n",
    "        res_series_t = (voc_t - vmp_t) / (16 * imp_t)\n",
    "        res_shunt_t = 5 * vmp_t / (isc_t - imp_t)\n",
    "        vt_t = (1.38e-23 * (273 + temp)) / 1.6e-19\n",
    "        io_t = ((res_series_t + res_shunt_t) * isc_t - voc_t) / (res_shunt_t * math.exp(voc_t / (a_n * vt_t)))\n",
    "        ipv_t = isc_t * (res_series_t + res_shunt_t) / res_shunt_t\n",
    "\n",
    "        self.model('SolarDiode', 'D', Is=io_t, N=a_n, tnom=temp)\n",
    "\n",
    "        self.R(1, 'illu', 'V-', 100 @ u_MOhm)\n",
    "\n",
    "        # Just for imaginary node 'img' because I don't know how to use i expression for arbitrary source B.\n",
    "        self.V('_img', 'img', self.gnd, ipv_t)\n",
    "\n",
    "        self.B(1, 'V-', '1', i=('v(illu) * v(img) / 1000'))\n",
    "        self.R('_res_shunt_t', '1', 'V-', res_shunt_t)\n",
    "        self.R('_res_series_t', '1', 'V+', res_series_t)\n",
    "        self.D('_solar', '1', 'V-', model='SolarDiode')\n",
    "\n",
    "\n",
    "class Form(QWidget):\n",
    "\n",
    "    def __init__(self):\n",
    "        super().__init__()\n",
    "        self.setWindowTitle('PV Panel I-V Profile Generator')\n",
    "        self.init_ui()\n",
    "\n",
    "    def init_ui(self):\n",
    "        self.setGeometry(100, 100, 800, 400)\n",
    "\n",
    "        hbox = QHBoxLayout()\n",
    "        self.setLayout(hbox)\n",
    "\n",
    "        gb1 = QGroupBox('Datasheet Parameters')\n",
    "        gb2 = QGroupBox('I-V Curve')\n",
    "\n",
    "        hbox.addWidget(gb1)\n",
    "        hbox.addWidget(gb2)\n",
    "\n",
    "        hbox.setStretchFactor(gb1, 5)\n",
    "        hbox.setStretchFactor(gb2, 5)\n",
    "\n",
    "        gbox = QGridLayout()\n",
    "        gb1.setLayout(gbox)\n",
    "\n",
    "        _txt = ('Open-circuit voltage(Voc) [V]',\n",
    "                'Short-circuit current(Isc) [A]',\n",
    "                'Voltage at MPP [V]',\n",
    "                'Current at MPP [A]',\n",
    "                'Temp. coefficient of Voc [%/K]',\n",
    "                'Temp. coefficient of Isc [%/K]',\n",
    "                'Temp. at panel [Celcius]',\n",
    "                'Irradiation [W/m2]')\n",
    "        self.def_Coef = (40.94, 10.68, 34.31, 10.20, -0.27, 0.04, 25, 1000)\n",
    "        self.coef = []\n",
    "        self.lineEdits = []\n",
    "\n",
    "        for i in range(len(_txt)):\n",
    "            Lb = QLabel(_txt[i])\n",
    "            Le = QLineEdit(str(self.def_Coef[i]))\n",
    "            Le.setValidator(QDoubleValidator(-100, 100, 2))\n",
    "            gbox.addWidget(Lb, i, 0)\n",
    "            gbox.addWidget(Le, i, 1)\n",
    "            self.lineEdits.append(Le)\n",
    "\n",
    "        hbox = QHBoxLayout()\n",
    "        gb2.setLayout(hbox)\n",
    "\n",
    "        self.fig = plt.Figure()\n",
    "        self.canvas = FigureCanvasQTAgg(self.fig)\n",
    "        hbox.addWidget(self.canvas)\n",
    "\n",
    "        self.btn = QPushButton('Plot')\n",
    "        # self.btn.setCheckable(True)\n",
    "        self.btn_export = QPushButton('Export')\n",
    "        gbox.addWidget(self.btn, len(_txt) + 1, 0)\n",
    "        gbox.addWidget(self.btn_export, len(_txt) + 1, 1)\n",
    "\n",
    "        self.btn.clicked.connect(self.onClickStart)\n",
    "        self.btn_export.clicked.connect(self.onClickExport)\n",
    "\n",
    "    def onClickStart(self):\n",
    "        self.fig.clear()\n",
    "        self.coef.clear()\n",
    "\n",
    "        for i in range(len(self.def_Coef)):\n",
    "            v = float(self.lineEdits[i].text() )\n",
    "            self.coef.append(v)\n",
    "\n",
    "        self.circuit = Circuit(\"PV panel characteristics\")\n",
    "\n",
    "        self.circuit.subcircuit(SolarPanel('sub2',\n",
    "                                           voc=self.coef[0],\n",
    "                                           isc=self.coef[1],\n",
    "                                           vmp=self.coef[2],\n",
    "                                           imp=self.coef[3],\n",
    "                                           c_eff_voc=self.coef[4]/100,\n",
    "                                           c_eff_isc=self.coef[5]/100,\n",
    "                                           temp=self.coef[6]))\n",
    "        v_illu = self.coef[7]\n",
    "        self.circuit.X('_panel_for_curve', 'sub2', 'V++', self.circuit.gnd, 'illu')\n",
    "        self.circuit.V(2, 'illu', self.circuit.gnd, v_illu)\n",
    "        self.circuit.R('test+', 'V++', 'test_point1', 0.01 @ u_mOhm)\n",
    "        self.circuit.PulseCurrentSource(1, 'test_point1', self.circuit.gnd,\n",
    "                                        initial_value=0 @ u_A,\n",
    "                                        pulsed_value=100 @ u_A,\n",
    "                                        delay_time=0,\n",
    "                                        rise_time=1 @ u_s,\n",
    "                                        pulse_width=0 @ u_s,\n",
    "                                        period=1 @ u_s)\n",
    "\n",
    "        t_step = 0.0001\n",
    "        res_curr_sns = 0.00001\n",
    "\n",
    "        self.simulator = self.circuit.simulator(temperature=25, nominal_temperature=25)\n",
    "        self.analysis = self.simulator.transient(step_time=t_step, end_time=1)\n",
    "\n",
    "        mask1_test = np.array(self.analysis['V++'])\n",
    "        mask2_test = np.array(self.analysis['test_point1'])\n",
    "        mask1 = [i > 0 for i in mask1_test]\n",
    "\n",
    "        curr_pv = (mask1_test[mask1] - mask2_test[mask1]) / res_curr_sns\n",
    "\n",
    "        ax = self.fig.subplots()\n",
    "        ax.plot(mask1_test[mask1], curr_pv, label='PV I-V Curve')\n",
    "        ax.set_title('PV I-V Curve')\n",
    "        ax.set_xlabel('Output Voltage [V]')\n",
    "        ax.set_ylabel('Output Current [A]')\n",
    "        ax.grid()\n",
    "\n",
    "        self.canvas.draw()\n",
    "\n",
    "    def onClickExport(self):\n",
    "        f = open('data.txt', 'w')\n",
    "\n",
    "        mask1_test = np.array(self.analysis['V++'])\n",
    "        mask2_test = np.array(self.analysis['test_point1'])\n",
    "        mask1 = [i > 0 for i in mask1_test]\n",
    "\n",
    "        mask1_test_m = mask1_test[mask1]\n",
    "        mask2_test_m = mask2_test[mask1]\n",
    "\n",
    "        res_curr_sns = 0.00001\n",
    "        curr_pv = (mask1_test_m - mask2_test_m) / res_curr_sns\n",
    "\n",
    "        for i in range(len(mask1_test_m)):\n",
    "            print('{:.3f} {:.3f}'.format(mask1_test_m[i], curr_pv[i]), file=f)\n",
    "\n",
    "        f.close()\n",
    "\n",
    "\n",
    "app = QApplication(sys.argv)\n",
    "w = Form()\n",
    "w.show()\n",
    "sys.exit(app.exec_())\n",
    "\n"
   ]
  },
  {
   "cell_type": "code",
   "execution_count": null,
   "id": "e420f04a",
   "metadata": {},
   "outputs": [],
   "source": []
  }
 ],
 "metadata": {
  "kernelspec": {
   "display_name": "Python 3 (ipykernel)",
   "language": "python",
   "name": "python3"
  },
  "language_info": {
   "codemirror_mode": {
    "name": "ipython",
    "version": 3
   },
   "file_extension": ".py",
   "mimetype": "text/x-python",
   "name": "python",
   "nbconvert_exporter": "python",
   "pygments_lexer": "ipython3",
   "version": "3.10.2"
  }
 },
 "nbformat": 4,
 "nbformat_minor": 5
}
